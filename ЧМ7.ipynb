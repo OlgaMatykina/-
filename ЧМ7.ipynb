{
  "nbformat": 4,
  "nbformat_minor": 0,
  "metadata": {
    "colab": {
      "name": "ЧМ7.ipynb",
      "provenance": [],
      "collapsed_sections": [],
      "mount_file_id": "1xPrIQ0qbAAJDZ0KSrRQQpchhx9-AjbBu",
      "authorship_tag": "ABX9TyOfxR3Ow3vnKZK8pwNHkOLh",
      "include_colab_link": true
    },
    "kernelspec": {
      "name": "python3",
      "display_name": "Python 3"
    },
    "language_info": {
      "name": "python"
    }
  },
  "cells": [
    {
      "cell_type": "markdown",
      "metadata": {
        "id": "view-in-github",
        "colab_type": "text"
      },
      "source": [
        "<a href=\"https://colab.research.google.com/github/OlgaMatykina/Numeric_Methods/blob/main/%D0%A7%D0%9C7.ipynb\" target=\"_parent\"><img src=\"https://colab.research.google.com/assets/colab-badge.svg\" alt=\"Open In Colab\"/></a>"
      ]
    },
    {
      "cell_type": "markdown",
      "source": [
        "# Лабораторная работа №7 #\n",
        "## \"Решение краевых задач метод пристрелки\" ##\n",
        "#### Выполнила: Матыкина О.В. ####\n",
        "#### Проверила: Шабунина З.А. ####"
      ],
      "metadata": {
        "id": "xAa_wv_oNyl7"
      }
    },
    {
      "cell_type": "code",
      "source": [
        "from google.colab import drive\n",
        "drive.mount('/content/drive')"
      ],
      "metadata": {
        "colab": {
          "base_uri": "https://localhost:8080/"
        },
        "id": "9oS21KOpPH3L",
        "outputId": "e19e627b-5fc7-4b4b-bb39-ab31cdba6bd9"
      },
      "execution_count": 85,
      "outputs": [
        {
          "output_type": "stream",
          "name": "stdout",
          "text": [
            "Drive already mounted at /content/drive; to attempt to forcibly remount, call drive.mount(\"/content/drive\", force_remount=True).\n"
          ]
        }
      ]
    },
    {
      "cell_type": "code",
      "source": [
        "def u_(x):\n",
        "  return x**5\n",
        "def v_(x):\n",
        "  return 5*x**4\n",
        "def w_(x):\n",
        "  return 20*x**3\n",
        "def z_(x):\n",
        "  return 60*x**2"
      ],
      "metadata": {
        "id": "8FhIiwxdzgTJ"
      },
      "execution_count": 99,
      "outputs": []
    },
    {
      "cell_type": "code",
      "source": [
        "def F1(x,u,v,w,z):\n",
        "  return v\n",
        "def F2(x,u,v,w,z):\n",
        "  return w\n",
        "def F3(x,u,v,w,z):\n",
        "  return z\n",
        "def F4(x,u,v,w,z):#это выражение для 4 производной\n",
        "  return 120*x"
      ],
      "metadata": {
        "id": "XPmdZ-KaPLYx"
      },
      "execution_count": 100,
      "outputs": []
    },
    {
      "cell_type": "code",
      "source": [
        "def dF1du(x,u,v,w,z):\n",
        "  return 0\n",
        "def dF1dv(x,u,v,w,z):\n",
        "  return 1\n",
        "def dF1dw(x,u,v,w,z):\n",
        "  return 0\n",
        "def dF1dz(x,u,v,w,z):\n",
        "  return 0\n",
        "\n",
        "def dF2du(x,u,v,w,z):\n",
        "  return 0\n",
        "def dF2dv(x,u,v,w,z):\n",
        "  return 0\n",
        "def dF2dw(x,u,v,w,z):\n",
        "  return 1\n",
        "def dF2dz(x,u,v,w,z):\n",
        "  return 0\n",
        "\n",
        "def dF3du(x,u,v,w,z):\n",
        "  return 0\n",
        "def dF3dv(x,u,v,w,z):\n",
        "  return 0\n",
        "def dF3dw(x,u,v,w,z):\n",
        "  return 0\n",
        "def dF3dz(x,u,v,w,z):\n",
        "  return 1\n",
        "\n",
        "def dF4du(x,u,v,w,z):\n",
        "  return 0\n",
        "def dF4dv(x,u,v,w,z):\n",
        "  return 0\n",
        "def dF4dw(x,u,v,w,z):\n",
        "  return 0\n",
        "def dF4dz(x,u,v,w,z):\n",
        "  return 0"
      ],
      "metadata": {
        "id": "ASiQ90OnWj7D"
      },
      "execution_count": 101,
      "outputs": []
    },
    {
      "cell_type": "code",
      "source": [
        "file_input = open(\"/content/drive/MyDrive/Colab Notebooks/ЧМ7 inputs/input\", \"r\")\n",
        "input_str=file_input.readline()\n",
        "a_b=input_str.split('; ')\n",
        "a=float(a_b[0])\n",
        "b=float(a_b[1])\n",
        "input_str=file_input.readline()\n",
        "N=int(input_str)\n",
        "input_str=file_input.readline()\n",
        "eps=float(input_str)\n",
        "input_str=file_input.readline()\n",
        "K=int(input_str)\n",
        "input_str=file_input.readline()\n",
        "alpha_betta=input_str.split('; ')\n",
        "alpha=float(alpha_betta[0])\n",
        "betta=float(alpha_betta[1])\n",
        "input_str=file_input.readline()\n",
        "A_B_C_D=input_str.split('; ')\n",
        "A=float(A_B_C_D[0])\n",
        "B=float(A_B_C_D[1])\n",
        "C=float(A_B_C_D[2])\n",
        "D=float(A_B_C_D[3])"
      ],
      "metadata": {
        "id": "QjxotZgAQHfW"
      },
      "execution_count": 102,
      "outputs": []
    },
    {
      "cell_type": "code",
      "source": [
        "h=(b-a)/N"
      ],
      "metadata": {
        "id": "rV6DI-mISqyg"
      },
      "execution_count": 103,
      "outputs": []
    },
    {
      "cell_type": "code",
      "source": [
        "x=[0]*(N+1)\n",
        "for i in range(N+1):\n",
        "  x[i]=A+i*h\n",
        "u=[0]*(N+1)\n",
        "v=[0]*(N+1)\n",
        "w=[0]*(N+1)\n",
        "z=[0]*(N+1)"
      ],
      "metadata": {
        "id": "JYaSki5gSYLu"
      },
      "execution_count": 104,
      "outputs": []
    },
    {
      "cell_type": "code",
      "source": [
        "#задаем начальные условия\n",
        "u[0]=A\n",
        "z[0]=B\n",
        "v[0]=alpha\n",
        "w[0]=betta\n",
        "print(u[0], v[0],z[0],w[0])"
      ],
      "metadata": {
        "id": "K5i5J14mTPGY",
        "colab": {
          "base_uri": "https://localhost:8080/"
        },
        "outputId": "3570846e-8f33-4e49-c010-b695cfb8f9b1"
      },
      "execution_count": 106,
      "outputs": [
        {
          "output_type": "stream",
          "name": "stdout",
          "text": [
            "0.0 0.0 0.0 0.0\n"
          ]
        }
      ]
    },
    {
      "cell_type": "code",
      "source": [
        "#решаем исходную задачу Коши методом Рунге-Кутта\n",
        "def RungeKutta(x,u,v,w,z):\n",
        "  K1=[0]*4\n",
        "  K2=[0]*4\n",
        "  for i in range(1,N+1):\n",
        "    K1[0]=F1(x[i-1],u[i-1],v[i-1],w[i-1],z[i-1])\n",
        "    K1[1]=F2(x[i-1],u[i-1],v[i-1],w[i-1],z[i-1])\n",
        "    K1[2]=F3(x[i-1],u[i-1],v[i-1],w[i-1],z[i-1])\n",
        "    K1[3]=F4(x[i-1],u[i-1],v[i-1],w[i-1],z[i-1])\n",
        "\n",
        "    K2[0]=F1(x[i-1]+h,u[i-1]+h*K1[0],v[i-1]+h*K1[1],w[i-1]+h*K1[2],z[i-1]+h*K1[3])\n",
        "    K2[1]=F2(x[i-1]+h,u[i-1]+h*K1[0],v[i-1]+h*K1[1],w[i-1]+h*K1[2],z[i-1]+h*K1[3])\n",
        "    K2[2]=F3(x[i-1]+h,u[i-1]+h*K1[0],v[i-1]+h*K1[1],w[i-1]+h*K1[2],z[i-1]+h*K1[3])\n",
        "    K2[3]=F4(x[i-1]+h,u[i-1]+h*K1[0],v[i-1]+h*K1[1],w[i-1]+h*K1[2],z[i-1]+h*K1[3])\n",
        "\n",
        "    u[i]=u[i-1]+0.5*h*(K1[0]+K2[0])\n",
        "    v[i]=v[i-1]+0.5*h*(K1[1]+K2[1])\n",
        "    w[i]=w[i-1]+0.5*h*(K1[2]+K2[2])\n",
        "    z[i]=z[i-1]+0.5*h*(K1[3]+K2[3])\n",
        "  return u,v,w,z"
      ],
      "metadata": {
        "id": "YSgEHdcKTYNG"
      },
      "execution_count": 107,
      "outputs": []
    },
    {
      "cell_type": "code",
      "source": [
        "def Fi1():\n",
        "  return u[N]-C\n",
        "def Fi2():\n",
        "  return w[N]-D"
      ],
      "metadata": {
        "id": "OYtrNxnPV2wf"
      },
      "execution_count": 108,
      "outputs": []
    },
    {
      "cell_type": "code",
      "source": [
        "def dFi1dalpha(g_a,h_a,t_a,p_a):\n",
        "  return g_a\n",
        "def dFi1dbetta(g_b,h_b,t_b,p_b):\n",
        "  return g_b\n",
        "def dFi2dalpha(g_a,h_a,t_a,p_a):\n",
        "  return t_a\n",
        "def dFi2dbetta(g_b,h_b,t_b,p_b):\n",
        "  return t_b"
      ],
      "metadata": {
        "id": "IUTr-UscpCMT"
      },
      "execution_count": 109,
      "outputs": []
    },
    {
      "cell_type": "code",
      "source": [
        "#решаем подзадачу Коши методом Рунге-Кутта\n",
        "def subtask(g_0,h_0,t_0,p_0):\n",
        "  K1=[0]*4\n",
        "  K2=[0]*4\n",
        "\n",
        "  for i in range(1,N+1):\n",
        "    dF1du_=dF1du(x[i-1],u[i-1],v[i-1],w[i-1],z[i-1])\n",
        "    dF1dv_=dF1dv(x[i-1],u[i-1],v[i-1],w[i-1],z[i-1])\n",
        "    dF1dw_=dF1dw(x[i-1],u[i-1],v[i-1],w[i-1],z[i-1])\n",
        "    dF1dz_=dF1dz(x[i-1],u[i-1],v[i-1],w[i-1],z[i-1])\n",
        "\n",
        "    dF2du_=dF2du(x[i-1],u[i-1],v[i-1],w[i-1],z[i-1])\n",
        "    dF2dv_=dF2dv(x[i-1],u[i-1],v[i-1],w[i-1],z[i-1])\n",
        "    dF2dw_=dF2dw(x[i-1],u[i-1],v[i-1],w[i-1],z[i-1])\n",
        "    dF2dz_=dF2dz(x[i-1],u[i-1],v[i-1],w[i-1],z[i-1])\n",
        "\n",
        "    dF3du_=dF3du(x[i-1],u[i-1],v[i-1],w[i-1],z[i-1])\n",
        "    dF3dv_=dF3dv(x[i-1],u[i-1],v[i-1],w[i-1],z[i-1])\n",
        "    dF3dw_=dF3dw(x[i-1],u[i-1],v[i-1],w[i-1],z[i-1])\n",
        "    dF3dz_=dF3dz(x[i-1],u[i-1],v[i-1],w[i-1],z[i-1])\n",
        "\n",
        "    dF4du_=dF4du(x[i-1],u[i-1],v[i-1],w[i-1],z[i-1])\n",
        "    dF4dv_=dF4dv(x[i-1],u[i-1],v[i-1],w[i-1],z[i-1])\n",
        "    dF4dw_=dF4dw(x[i-1],u[i-1],v[i-1],w[i-1],z[i-1])\n",
        "    dF4dz_=dF4dz(x[i-1],u[i-1],v[i-1],w[i-1],z[i-1])\n",
        "\n",
        "    K1[0]=dF1du_*g_0+dF1dv_*h_0+dF1dw_*t_0+dF1dz_*p_0\n",
        "    K1[1]=dF2du_*g_0+dF2dv_*h_0+dF2dw_*t_0+dF2dz_*p_0\n",
        "    K1[2]=dF3du_*g_0+dF3dv_*h_0+dF3dw_*t_0+dF3dz_*p_0\n",
        "    K1[3]=dF4du_*g_0+dF4dv_*h_0+dF4dw_*t_0+dF4dz_*p_0\n",
        "\n",
        "    dF1du_=dF1du(x[i-1]+h,u[i-1],v[i-1],w[i-1],z[i-1])\n",
        "    dF1dv_=dF1dv(x[i-1]+h,u[i-1],v[i-1],w[i-1],z[i-1])\n",
        "    dF1dw_=dF1dw(x[i-1]+h,u[i-1],v[i-1],w[i-1],z[i-1])\n",
        "    dF1dz_=dF1dz(x[i-1]+h,u[i-1],v[i-1],w[i-1],z[i-1])\n",
        "\n",
        "    dF2du_=dF2du(x[i-1]+h,u[i-1],v[i-1],w[i-1],z[i-1])\n",
        "    dF2dv_=dF2dv(x[i-1]+h,u[i-1],v[i-1],w[i-1],z[i-1])\n",
        "    dF2dw_=dF2dw(x[i-1]+h,u[i-1],v[i-1],w[i-1],z[i-1])\n",
        "    dF2dz_=dF2dz(x[i-1]+h,u[i-1],v[i-1],w[i-1],z[i-1])\n",
        "\n",
        "    dF3du_=dF3du(x[i-1]+h,u[i-1],v[i-1],w[i-1],z[i-1])\n",
        "    dF3dv_=dF3dv(x[i-1]+h,u[i-1],v[i-1],w[i-1],z[i-1])\n",
        "    dF3dw_=dF3dw(x[i-1]+h,u[i-1],v[i-1],w[i-1],z[i-1])\n",
        "    dF3dz_=dF3dz(x[i-1]+h,u[i-1],v[i-1],w[i-1],z[i-1])\n",
        "\n",
        "    dF4du_=dF4du(x[i-1]+h,u[i-1],v[i-1],w[i-1],z[i-1])\n",
        "    dF4dv_=dF4dv(x[i-1]+h,u[i-1],v[i-1],w[i-1],z[i-1])\n",
        "    dF4dw_=dF4dw(x[i-1]+h,u[i-1],v[i-1],w[i-1],z[i-1])\n",
        "    dF4dz_=dF4dz(x[i-1]+h,u[i-1],v[i-1],w[i-1],z[i-1])\n",
        "\n",
        "    K2[0]=dF1du_*(g_0+h*K1[0])+dF1dv_*(h_0+h*K1[1])+dF1dw_*(t_0+h*K1[2])+dF1dz_*(p_0+h*K1[3])\n",
        "    K2[1]=dF2du_*(g_0+h*K1[0])+dF2dv_*(h_0+h*K1[1])+dF2dw_*(t_0+h*K1[2])+dF2dz_*(p_0+h*K1[3])\n",
        "    K2[2]=dF3du_*(g_0+h*K1[0])+dF3dv_*(h_0+h*K1[1])+dF3dw_*(t_0+h*K1[2])+dF3dz_*(p_0+h*K1[3])\n",
        "    K2[3]=dF4du_*(g_0+h*K1[0])+dF4dv_*(h_0+h*K1[1])+dF4dw_*(t_0+h*K1[2])+dF4dz_*(p_0+h*K1[3])\n",
        "\n",
        "    g_0=g_0+0.5*h*(K1[0]+K2[0])\n",
        "    h_0=h_0+0.5*h*(K1[1]+K2[1])\n",
        "    t_0=t_0+0.5*h*(K1[2]+K2[2])\n",
        "    p_0=p_0+0.5*h*(K1[3]+K2[3])\n",
        "\n",
        "  return g_0, h_0, t_0, p_0"
      ],
      "metadata": {
        "id": "XKC9kn1VWVpW"
      },
      "execution_count": 110,
      "outputs": []
    },
    {
      "cell_type": "code",
      "source": [
        "def delt_coefs(g_a,h_a,t_a,p_a,g_b,h_b,t_b,p_b):\n",
        "  delt_alpha=-Fi1_/dFi1dalpha(g_a,h_a,t_a,p_a)-dFi1dbetta(g_b,h_b,t_b,p_b)*(-Fi2_+dFi2dalpha(g_a,h_a,t_a,p_a)/dFi1dalpha(g_a,h_a,t_a,p_a)*Fi1_)/(dFi1dalpha(g_a,h_a,t_a,p_a)*dFi2dbetta(g_b,h_b,t_b,p_b)-dFi2dalpha(g_a,h_a,t_a,p_a)*dFi1dbetta(g_b,h_b,t_b,p_b))\n",
        "  delt_betta=(-Fi2_+dFi2dalpha(g_a,h_a,t_a,p_a)/dFi1dalpha(g_a,h_a,t_a,p_a)*Fi1_)/(dFi2dbetta(g_b,h_b,t_b,p_b)-dFi2dalpha(g_a,h_a,t_a,p_a)/dFi1dalpha(g_a,h_a,t_a,p_a)*dFi1dbetta(g_b,h_b,t_b,p_b))\n",
        "  return delt_alpha, delt_betta"
      ],
      "metadata": {
        "id": "bQKjthpRow2x"
      },
      "execution_count": 111,
      "outputs": []
    },
    {
      "cell_type": "code",
      "source": [
        "#алгоритм\n",
        "u,v,w,z=RungeKutta(x,u,v,w,z)#решить исходную задачу Коши\n",
        "Fi1_=Fi1()\n",
        "Fi2_=Fi2()\n",
        "iterations=0\n",
        "print(Fi1_, Fi2_)"
      ],
      "metadata": {
        "colab": {
          "base_uri": "https://localhost:8080/"
        },
        "id": "0uzMihSxX8eB",
        "outputId": "7dff171d-ce9d-41a6-82f3-f5bc124c1bcb"
      },
      "execution_count": 113,
      "outputs": [
        {
          "output_type": "stream",
          "name": "stdout",
          "text": [
            "-2.739199999999993 -1.599999999999966\n"
          ]
        }
      ]
    },
    {
      "cell_type": "code",
      "source": [
        "\n",
        "while((abs(Fi1_)>=eps or abs(Fi2_)>=eps) and iterations<K):\n",
        "  iterations+=1\n",
        "  g_a, h_a, t_a, p_a=subtask(0,1,0,0)#решить подзадачи \n",
        "  g_b, h_b, t_b, p_b=subtask(0,0,1,0)\n",
        "  delt_alpha, delt_betta=delt_coefs(g_a,h_a,t_a,p_a,g_b,h_b,t_b,p_b)#посчитать delt_alpha, delt_betta\n",
        "  alpha+=delt_alpha\n",
        "  betta+=delt_betta\n",
        "  v[0]=alpha\n",
        "  w[0]=betta\n",
        "  u,v,w,z=RungeKutta(x,u,v,w,z)#перерешать исходную задачу Коши\n",
        "  Fi1_=Fi1()\n",
        "  Fi2_=Fi2()\n",
        "if (iterations>=K):\n",
        "  IER=1\n",
        "else:\n",
        "  IER=0\n",
        "file_output = open(\"/content/drive/MyDrive/Colab Notebooks/ЧМ7 inputs/output.txt\", \"w\")\n",
        "file_output.write(\"IER=\"+str(IER))\n",
        "file_output.write(\"\\nL=\"+str(iterations))\n",
        "file_output.write(\"\\nalpha=\"+str(round(alpha,3))+\", betta=\"+str(round(betta,3)))\n",
        "file_output.write(\"\\nFi1=\"+str(round(Fi1_,3))+\", Fi2=\"+str(round(Fi2_,3)))\n",
        "file_output.write(\"\\n    x         u      delt_u       v      delt_v       w      delt_w       z      delt_z\")\n",
        "for i in range(N+1):\n",
        "  file_output.write(\"\\n\") \n",
        "  file_output.write(\"{: f} {: f} {: f} {: f} {: f} {: f} {: f} {: f} {: f}\".format(x[i],u[i],abs(u_(x[i])-u[i]),v[i],abs(v_(x[i])-v[i]),w[i],abs(w_(x[i])-w[i]),z[i],abs(z_(x[i])-z[i])))"
      ],
      "metadata": {
        "id": "b6VZg0BNusig"
      },
      "execution_count": 98,
      "outputs": []
    }
  ]
}