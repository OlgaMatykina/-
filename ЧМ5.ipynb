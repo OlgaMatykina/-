{
  "nbformat": 4,
  "nbformat_minor": 0,
  "metadata": {
    "colab": {
      "name": "ЧМ5.ipynb",
      "provenance": [],
      "collapsed_sections": [],
      "mount_file_id": "1RBvMkH_CvEJCrNFk8QokUc0k-ET_xrgg",
      "authorship_tag": "ABX9TyMmYDc9QUeuADY1fnAjnOAI",
      "include_colab_link": true
    },
    "kernelspec": {
      "name": "python3",
      "display_name": "Python 3"
    },
    "language_info": {
      "name": "python"
    }
  },
  "cells": [
    {
      "cell_type": "markdown",
      "metadata": {
        "id": "view-in-github",
        "colab_type": "text"
      },
      "source": [
        "<a href=\"https://colab.research.google.com/github/OlgaMatykina/Numeric_Methods/blob/main/%D0%A7%D0%9C5.ipynb\" target=\"_parent\"><img src=\"https://colab.research.google.com/assets/colab-badge.svg\" alt=\"Open In Colab\"/></a>"
      ]
    },
    {
      "cell_type": "markdown",
      "source": [
        "# Лабораторная работа №5 #\n",
        "## \"Решение нелинейных уравнений\" ##\n",
        "#### Выполнила: Матыкина О.В. ####\n",
        "#### Проверила: Шабунина З.А. ####"
      ],
      "metadata": {
        "id": "AZhTzEosM_l4"
      }
    },
    {
      "cell_type": "code",
      "source": [
        "def SecondModifiedNewton(x0,eps,k):\n",
        "  x_i=0\n",
        "  x_i_1=x0\n",
        "  x_m=x0\n",
        "  l=0\n",
        "  m=3\n",
        "  round=0\n",
        "  accuracy=False\n",
        "  while (l<=k) and not accuracy:\n",
        "    df_x_m=df(x_m)\n",
        "    if (abs(df_x_m)<=0.0000000000001):\n",
        "      break\n",
        "    for i in range(1,m+1):\n",
        "      if ((l<=k) and not accuracy):        \n",
        "        l+=1\n",
        "        x_i=x_i_1-f(x_i_1)/df_x_m\n",
        "        accuracy=abs(x_i-x_i_1)<eps\n",
        "        x_i_1=x_i\n",
        "      else:\n",
        "        break\n",
        "    round+=1\n",
        "    x_m=x_i\n",
        "  if (l>k):\n",
        "    IER=1\n",
        "  elif accuracy:\n",
        "    IER=0\n",
        "  else:\n",
        "    IER=3\n",
        "  return IER, l, x_i, f(x_i)"
      ],
      "metadata": {
        "id": "PrCQ7EfbTtHY"
      },
      "execution_count": null,
      "outputs": []
    },
    {
      "cell_type": "code",
      "source": [
        "from math import *\n",
        "def f(x):\n",
        "  return x-sin(x)-0.25\n",
        "def df(x):\n",
        "  return 1-cos(x)"
      ],
      "metadata": {
        "id": "3bOkNrnMTZx5"
      },
      "execution_count": null,
      "outputs": []
    },
    {
      "cell_type": "code",
      "source": [
        "from math import *\n",
        "def f(x):\n",
        "  return x**3+x-12\n",
        "def df(x):\n",
        "  return 3*x**2+1"
      ],
      "metadata": {
        "id": "5WgGZCM3Rqhq"
      },
      "execution_count": null,
      "outputs": []
    },
    {
      "cell_type": "code",
      "source": [
        "from math import *\n",
        "def f(x):\n",
        "  return x**2+x/2-12\n",
        "def df(x):\n",
        "  return 2*x+1/2"
      ],
      "metadata": {
        "id": "cxUJayE--OFn"
      },
      "execution_count": null,
      "outputs": []
    },
    {
      "cell_type": "code",
      "source": [
        "from math import *\n",
        "def f(x):\n",
        "  return x**2-x\n",
        "def df(x):\n",
        "  return 2*x-1"
      ],
      "metadata": {
        "id": "wXgugEBPVdmW"
      },
      "execution_count": null,
      "outputs": []
    },
    {
      "cell_type": "code",
      "source": [
        "file_input = open(\"/content/drive/MyDrive/Colab Notebooks/ЧМ inputs/input4.txt\", \"r\")\n",
        "input_str=file_input.readline()\n",
        "n=int(input_str)# количество корней\n",
        "for j in range(n):\n",
        "  input_str=file_input.readline()\n",
        "  x0=float(input_str)# начальное приближение корня\n",
        "  input_str=file_input.readline()\n",
        "  eps=float(input_str)# точность нахождения решения\n",
        "  input_str=file_input.readline()\n",
        "  k=int(input_str)# предельное число операций\n",
        "  IER, l, xx, func=SecondModifiedNewton(x0,eps,k)\n",
        "  file_output = open(\"/content/drive/MyDrive/Colab Notebooks/ЧМ inputs/output4.txt\", \"a\")\n",
        "  file_output.write('IER='+str(IER))\n",
        "  if (IER==0):\n",
        "    file_output.write('\\nl='+str(l))\n",
        "    file_output.write('\\nxx='+str(xx))\n",
        "    file_output.write('\\n|f(xx)|='+str(abs(func)))\n",
        "  file_output.write('\\n') \n",
        "  file_output.close()\n",
        "file_input.close()"
      ],
      "metadata": {
        "id": "6Fer6Rh1Z3hZ"
      },
      "execution_count": null,
      "outputs": []
    }
  ]
}