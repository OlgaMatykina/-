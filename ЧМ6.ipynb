{
  "nbformat": 4,
  "nbformat_minor": 0,
  "metadata": {
    "colab": {
      "name": "ЧМ6.ipynb",
      "provenance": [],
      "collapsed_sections": [],
      "mount_file_id": "1UeK1y-vys_AKtWEIKtLDktBLelzSZrUc",
      "authorship_tag": "ABX9TyN1zXDIRXwq7r9d2YlSDMou",
      "include_colab_link": true
    },
    "kernelspec": {
      "name": "python3",
      "display_name": "Python 3"
    },
    "language_info": {
      "name": "python"
    }
  },
  "cells": [
    {
      "cell_type": "markdown",
      "metadata": {
        "id": "view-in-github",
        "colab_type": "text"
      },
      "source": [
        "<a href=\"https://colab.research.google.com/github/OlgaMatykina/Numeric_Methods/blob/main/%D0%A7%D0%9C6.ipynb\" target=\"_parent\"><img src=\"https://colab.research.google.com/assets/colab-badge.svg\" alt=\"Open In Colab\"/></a>"
      ]
    },
    {
      "cell_type": "markdown",
      "source": [
        "# Лабораторная работа №6 #\n",
        "## \"Численное решение задачи Коши для обыкновенных дифференциальных уравнений методами типа Рунге-Кутта\" ##\n",
        "#### Выполнила: Матыкина О.В. ####\n",
        "#### Проверила: Шабунина З.А. ####"
      ],
      "metadata": {
        "id": "sYRy1CYdKg8B"
      }
    },
    {
      "cell_type": "code",
      "source": [
        "from google.colab import drive\n",
        "drive.mount('/content/drive')"
      ],
      "metadata": {
        "id": "jADM-92-pTzv",
        "colab": {
          "base_uri": "https://localhost:8080/"
        },
        "outputId": "eba4c0d8-8642-4e1d-9646-812920178d29"
      },
      "execution_count": null,
      "outputs": [
        {
          "output_type": "stream",
          "name": "stdout",
          "text": [
            "Drive already mounted at /content/drive; to attempt to forcibly remount, call drive.mount(\"/content/drive\", force_remount=True).\n"
          ]
        }
      ]
    },
    {
      "cell_type": "code",
      "source": [
        "#def f(x,y):\n",
        "  #return 2*x"
      ],
      "metadata": {
        "id": "SchWd9U7Fe-m"
      },
      "execution_count": null,
      "outputs": []
    },
    {
      "cell_type": "code",
      "source": [
        "def f(x,y):\n",
        "  return 2*x+y-x**2"
      ],
      "metadata": {
        "id": "bPhI7DncJ4NX"
      },
      "execution_count": null,
      "outputs": []
    },
    {
      "cell_type": "code",
      "source": [
        "#def f(x,y):\n",
        "  #return 120*x**4"
      ],
      "metadata": {
        "id": "B5RqtUptMAZf"
      },
      "execution_count": null,
      "outputs": []
    },
    {
      "cell_type": "markdown",
      "source": [
        ""
      ],
      "metadata": {
        "id": "Pf5wMKF412r1"
      }
    },
    {
      "cell_type": "code",
      "source": [
        "def y_1(x_0, y_0, h):\n",
        "  K1=h*f(x_0, y_0)\n",
        "  K2=h*f(x_0+h/2, y_0+1/2*K1)\n",
        "  K3=h*f(x_0+h,y_0-K1+2*K2)\n",
        "  return y_0+1/6*(K1+4*K2+K3)"
      ],
      "metadata": {
        "id": "86pzNZWdNHSn"
      },
      "execution_count": null,
      "outputs": []
    },
    {
      "cell_type": "code",
      "source": [
        "def eps_n(x_0, y_0, h):\n",
        "  y_h=y_1(x_0, y_0, h)\n",
        "  y_zap=y_1(x_0, y_0, h/2)\n",
        "  y_h2=y_1(x_0+h/2, y_zap, h/2)\n",
        "  return abs(y_h-y_h2)/abs(0.5**3-1)\n",
        "  #return abs(y_h-y_h2)/7*8"
      ],
      "metadata": {
        "id": "ywracWtnN_YA"
      },
      "execution_count": null,
      "outputs": []
    },
    {
      "cell_type": "code",
      "source": [
        "def step(x_0, y_0, h, flag,count,count_eps,count_h):\n",
        "  count+=1\n",
        "  #y1=y_1(x_0, y_0, h)\n",
        "  if (abs(h)<=abs(h_min)):\n",
        "    h=h_min\n",
        "    count_h+=1\n",
        "  y1=y_1(x_0, y_0, h)\n",
        "  x1=x_0+h\n",
        "  while (eps_n(x_0, y_0, h)>eps and abs(h)>abs(h_min)):\n",
        "    h*=0.5\n",
        "    flag=False\n",
        "    y1=y_1(x_0, y_0, h)\n",
        "    x1=x_0+h\n",
        "  file_output = open(\"/content/drive/MyDrive/Colab Notebooks/ЧМ6 inputs/output.txt\", \"a\")\n",
        "  if (eps_n(x_0, y_0, h)>eps):\n",
        "    file_output.write(\"{: f} {: f} {: f} {: f} <-\".format(x1, y1, eps_n(x_0, y_0, h),h))\n",
        "    count_eps+=1\n",
        "  else:\n",
        "    file_output.write(\"{: f} {: f} {: f} {: f}\".format(x1, y1, eps_n(x_0, y_0, h),h))\n",
        "  file_output.write('\\n') \n",
        "  file_output.close()\n",
        "  if (flag and eps_n(x_0, y_0, h)<eps/k):#если на предыдущем шаге уменьшали, на этом не будем увеличивать\n",
        "    h*=2\n",
        "  elif (flag==False): #а через один уже можно\n",
        "    flag=True\n",
        "  #print(h,y1,x1,flag,count,count_eps,count_h)\n",
        "  return h,y1,x1,flag,count,count_eps,count_h"
      ],
      "metadata": {
        "id": "rP4JwPdYO__n"
      },
      "execution_count": null,
      "outputs": []
    },
    {
      "cell_type": "code",
      "execution_count": null,
      "metadata": {
        "id": "X_q9oHMiKPH8"
      },
      "outputs": [],
      "source": [
        "file_input = open(\"/content/drive/MyDrive/Colab Notebooks/ЧМ6 inputs/input\", \"r\")\n",
        "input_str=file_input.readline()\n",
        "A=float(input_str)\n",
        "input_str=file_input.readline()\n",
        "B=float(input_str)\n",
        "input_str=file_input.readline()\n",
        "C=float(input_str)\n",
        "input_str=file_input.readline()\n",
        "y_c=float(input_str)\n",
        "input_str=file_input.readline()\n",
        "h_min=float(input_str)\n",
        "input_str=file_input.readline()\n",
        "eps=float(input_str)\n",
        "count_h=0"
      ]
    },
    {
      "cell_type": "code",
      "source": [
        "#проверка входных данных\n",
        "if (A>=B or (C-A)*(C-B)!=0):\n",
        "  print(\"Icod=2\")\n",
        "else:\n",
        "  h=(B-A)/10\n",
        "#  if (h==h_min):\n",
        "#    count_h+=1\n",
        "  if (C==B):\n",
        "    h*=-1\n",
        "    h_min*=-1\n",
        "    temp=A\n",
        "    A=B\n",
        "    B=temp\n",
        "  x_0=A\n",
        "  y_0=y_c\n",
        "  file_output = open(\"/content/drive/MyDrive/Colab Notebooks/ЧМ6 inputs/output.txt\", \"a\")\n",
        "  file_output.write(\"{: f} {: f} \".format(x_0, y_0))\n",
        "  file_output.write('\\n') \n",
        "  file_output.close()\n",
        "  s=3\n",
        "  k=2**s\n",
        "  count_eps=0\n",
        "  flag=True\n",
        "  count=0\n",
        "  h,y_0,x_0,flag,count,count_eps,count_h=step(x_0, y_0, h,flag,count,count_eps,count_h)\n",
        "  while (B-(x_0+h)>=h_min and (h_min>0) or B-(x_0+h)<=h_min and (h_min<0)):\n",
        "    h,y_0,x_0,flag,count,count_eps,count_h=step(x_0, y_0, h,flag,count,count_eps,count_h)\n",
        "  if (abs(B-x_0)>=2*abs(h_min)):\n",
        "    count+=2\n",
        "    y1=y_1(x_0, y_0, B-h_min-x_0)\n",
        "    file_output = open(\"/content/drive/MyDrive/Colab Notebooks/ЧМ6 inputs/output.txt\", \"a\")\n",
        "    if (eps_n(x_0, y_0, B-h_min-x_0)>eps):\n",
        "      file_output.write(\"{: f} {: f} {: f} {: f} <-\".format(B-h_min, y1, eps_n(x_0, y_0, B-h_min-x_0),B-h_min-x_0))\n",
        "      count_eps+=1\n",
        "    else:\n",
        "      file_output.write(\"{: f} {: f} {: f} {: f}\".format(B-h_min, y1, eps_n(x_0, y_0, B-h_min-x_0),B-h_min-x_0))\n",
        "    file_output.write('\\n') \n",
        "    y_0=y1\n",
        "    y1=y_1(B-h_min, y_0, h_min)\n",
        "    count_h+=1\n",
        "    if (eps_n(B-h_min, y_0, h_min)>eps):\n",
        "      file_output.write(\"{: f} {: f} {: f} {: f} <-\".format(B, y1, eps_n(B-h_min-x_0, y_0, h_min),h_min))\n",
        "      count_eps+=1\n",
        "    else:\n",
        "      file_output.write(\"{: f} {: f} {: f} {: f}\".format(B, y1, eps_n(B-h_min-x_0, y_0, h_min),h_min))\n",
        "    file_output.write('\\n') \n",
        "    file_output.close()\n",
        "  elif (abs(B-x_0)<=1.5*abs(h_min)):\n",
        "    if (h==h_min):\n",
        "      count_h+=1\n",
        "    count+=1\n",
        "    y1=y_1(x_0, y_0, B-x_0)\n",
        "    file_output = open(\"/content/drive/MyDrive/Colab Notebooks/ЧМ6 inputs/output.txt\", \"a\")\n",
        "    if (eps_n(x_0, y_0, B-x_0)>eps):\n",
        "      file_output.write(\"{: f} {: f} {: f} {: f} <-\".format(B, y1, eps_n(x_0, y_0, B-x_0),B-x_0))\n",
        "      count_eps+=1\n",
        "    else:\n",
        "      file_output.write(\"{: f} {: f} {: f} {: f}\".format(B, y1, eps_n(x_0, y_0, B-x_0),B-x_0))\n",
        "    file_output.write('\\n') \n",
        "    file_output.close()\n",
        "  else:\n",
        "    count+=2\n",
        "    y1=y_1(x_0, y_0, (B-x_0)/2)\n",
        "    file_output = open(\"/content/drive/MyDrive/Colab Notebooks/ЧМ6 inputs/output.txt\", \"a\")\n",
        "    if (eps_n(x_0, y_0, B-h_min-x_0)>eps):\n",
        "      file_output.write(\"{: f} {: f} {: f} {: f} <-\".format(B-h_min, y1, eps_n(x_0, y_0, B-h_min-x_0),B-h_min-x_0))\n",
        "      count_eps+=1\n",
        "    else:\n",
        "      file_output.write(\"{: f} {: f} {: f} {: f}\".format(B-h_min, y1, eps_n(x_0, y_0, B-h_min-x_0),B-h_min-x_0))\n",
        "    file_output.write('\\n') \n",
        "    y_0=y1\n",
        "    y1=y_1(B-(B-x_0)/2, y_0, (B-x_0)/2)\n",
        "    if (eps_n(B-(B-x_0)/2, y_0, (B-x_0)/2)>eps):\n",
        "      file_output.write(\"{: f} {: f} {: f} {: f} <-\".format(B, y1, eps_n(B-(B-x_0)/2, y_0, (B-x_0)/2),(B-x_0)/2))\n",
        "      count_eps+=1\n",
        "    else:\n",
        "      file_output.write(\"{: f} {: f} {: f} {: f}\".format(B, y1, eps_n(B-(B-x_0)/2, y_0, (B-x_0)/2),(B-x_0)/2))\n",
        "    file_output.write('\\n') \n",
        "    file_output.close()\n",
        "  file_output = open(\"/content/drive/MyDrive/Colab Notebooks/ЧМ6 inputs/output.txt\", \"a\")\n",
        "  file_output.write(\"Число точек интегрирования: \"+str(count)+ \n",
        "                        \"\\nЧисло точек, в которых не достигается заданная точность: \"+str(count_eps)+\n",
        "                        \"\\nОбщее количество минимальных шагов интегрирования: \"+str(count_h))\n",
        "  file_output.close()\n",
        "  if (count_eps==0):\n",
        "    print(\"Icod=0\")\n",
        "  else:\n",
        "    print(\"Icod=1\")"
      ],
      "metadata": {
        "id": "6VAtw15iL0dI",
        "colab": {
          "base_uri": "https://localhost:8080/"
        },
        "outputId": "e3478aa9-bc4b-42e0-d99b-b23fbd6da0e7"
      },
      "execution_count": null,
      "outputs": [
        {
          "output_type": "stream",
          "name": "stdout",
          "text": [
            "Icod=0\n"
          ]
        }
      ]
    },
    {
      "cell_type": "code",
      "source": [
        "eps_n(0,0,0.2)"
      ],
      "metadata": {
        "colab": {
          "base_uri": "https://localhost:8080/"
        },
        "id": "v-I_BABrXkVM",
        "outputId": "617501f6-7d09-4ccc-b622-47f5076b9217"
      },
      "execution_count": null,
      "outputs": [
        {
          "output_type": "execute_result",
          "data": {
            "text/plain": [
              "0.00013233174603174573"
            ]
          },
          "metadata": {},
          "execution_count": 30
        }
      ]
    }
  ]
}