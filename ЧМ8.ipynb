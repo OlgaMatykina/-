{
  "nbformat": 4,
  "nbformat_minor": 0,
  "metadata": {
    "colab": {
      "name": "ЧМ8.ipynb",
      "provenance": [],
      "collapsed_sections": [],
      "mount_file_id": "12X6KT4JYxTM064CHb554Ic7C0sHohyK4",
      "authorship_tag": "ABX9TyNfJczVM9hQomNw9sOjByky",
      "include_colab_link": true
    },
    "kernelspec": {
      "name": "python3",
      "display_name": "Python 3"
    },
    "language_info": {
      "name": "python"
    }
  },
  "cells": [
    {
      "cell_type": "markdown",
      "metadata": {
        "id": "view-in-github",
        "colab_type": "text"
      },
      "source": [
        "<a href=\"https://colab.research.google.com/github/OlgaMatykina/Numeric_Methods/blob/main/%D0%A7%D0%9C8.ipynb\" target=\"_parent\"><img src=\"https://colab.research.google.com/assets/colab-badge.svg\" alt=\"Open In Colab\"/></a>"
      ]
    },
    {
      "cell_type": "markdown",
      "source": [
        "# Лабораторная работа №8 #\n",
        "## \"Численное решение уравнений математической физики\" ##\n",
        "#### Выполнила: Матыкина О.В. ####\n",
        "#### Проверила: Шабунина З.А. ####"
      ],
      "metadata": {
        "id": "xAa_wv_oNyl7"
      }
    },
    {
      "cell_type": "code",
      "source": [
        "from math import *"
      ],
      "metadata": {
        "id": "WWcLjAIhhtYc"
      },
      "execution_count": null,
      "outputs": []
    },
    {
      "cell_type": "code",
      "source": [
        "def progonka(aa,bb,cc,FF,n):\n",
        "        ju=list(range(n+1))\n",
        "        v=list(range(n+1))\n",
        "        ju[1]=-bb[0]/cc[0]\n",
        "        v[1]=FF[0]/cc[0]\n",
        "        for i in range(1,n):\n",
        "            znam=cc[i]+aa[i]*ju[i]\n",
        "            ju[i+1]=-bb[i]/znam\n",
        "            v[i+1]=(FF[i]-aa[i]*v[i])/znam\n",
        "        c=list(range(n+1))\n",
        "        c[n]=(FF[n]-aa[n]*v[n])/(cc[n]+aa[n]*ju[n])\n",
        "        for i in range(1,n+1):\n",
        "            c[n-i]=ju[n+1-i]*c[n+1-i]+v[n+1-i]\n",
        "        return c"
      ],
      "metadata": {
        "id": "KSbJzKLOeDd1"
      },
      "execution_count": null,
      "outputs": []
    },
    {
      "cell_type": "code",
      "source": [
        "file_input = open(\"/content/drive/MyDrive/Colab Notebooks/ЧМ8 inputs/input\", \"r\")\n",
        "input_str=file_input.readline()\n",
        "c=float(input_str)\n",
        "input_str=file_input.readline()\n",
        "a_b=input_str.split('; ')\n",
        "a=float(a_b[0])\n",
        "b=float(a_b[1])\n",
        "input_str=file_input.readline()\n",
        "T=float(input_str)\n",
        "input_str=file_input.readline()\n",
        "alpha_betta=input_str.split('; ')\n",
        "alpha1=float(alpha_betta[0])\n",
        "betta1=float(alpha_betta[1])\n",
        "input_str=file_input.readline()\n",
        "alpha_betta=input_str.split('; ')\n",
        "alpha2=float(alpha_betta[0])\n",
        "betta2=float(alpha_betta[1])\n",
        "input_str=file_input.readline()\n",
        "h=float(input_str)\n",
        "input_str=file_input.readline()\n",
        "tau=float(input_str)"
      ],
      "metadata": {
        "id": "_RxHUTUVeEQS"
      },
      "execution_count": null,
      "outputs": []
    },
    {
      "cell_type": "code",
      "source": [
        "def mu1(t):\n",
        "  #return 1\n",
        "  return sin(t)\n",
        "  #return 0\n",
        "def mu2(t):\n",
        "  #return t\n",
        "  #return 0\n",
        "  return -1+sin(t)\n",
        "def mu3(x):\n",
        "  #return 0\n",
        "  return sin(x)\n",
        "\n",
        "def f(x,t):\n",
        "  #return x**2-2*t\n",
        "  return cos(t)+sin(x)"
      ],
      "metadata": {
        "id": "8AspIVI-gApS"
      },
      "execution_count": null,
      "outputs": []
    },
    {
      "cell_type": "code",
      "source": [
        "N=int((b-a)/h)\n",
        "M=round(T/tau)\n",
        "sigma=1/2"
      ],
      "metadata": {
        "id": "w124BmmEh5IC"
      },
      "execution_count": null,
      "outputs": []
    },
    {
      "cell_type": "code",
      "source": [
        "def u(x,t):\n",
        "  return sin(x)+sin(t)\n",
        "  #return x**2*t"
      ],
      "metadata": {
        "id": "PP0X2l-Yq8ZM"
      },
      "execution_count": null,
      "outputs": []
    },
    {
      "cell_type": "code",
      "source": [
        "u_=[0]*(N+1)\n"
      ],
      "metadata": {
        "id": "y2nN5exprQod"
      },
      "execution_count": null,
      "outputs": []
    },
    {
      "cell_type": "code",
      "source": [
        "x=[0]*(N+1)\n",
        "t=[0]*(M+1)\n",
        "y0=[0]*(N+1)\n",
        "#print('j = 0')\n",
        "#print('i x[i] y[i] u[i]  r')\n",
        "for i in range(N+1):\n",
        "  #u_[i]=u(x[i],t[0])\n",
        "  x[i]=a+i*h\n",
        "  y0[i]=mu3(x[i])\n",
        "  #print(i, x[i], round(y0[i],4), round(u_[i],4), round(u_[i]-y0[i],4))\n",
        "for j in range(M+1):\n",
        "  t[j]=j*tau"
      ],
      "metadata": {
        "id": "Ld8eAVcAkxhJ"
      },
      "execution_count": null,
      "outputs": []
    },
    {
      "cell_type": "code",
      "source": [
        "A=[0]*(N+1)\n",
        "B=[0]*(N+1)\n",
        "C=[0]*(N+1)\n",
        "F=[0]*(N+1)\n",
        "y=[0]*(N+1)\n",
        "r=0\n",
        "\n",
        "for j in range(M):\n",
        "  for i in range(1,N):\n",
        "    A[i]=1\n",
        "    C[i]=-(2+h**2/(c*tau*sigma))\n",
        "    B[i]=1\n",
        "    F[i]=(2*(1-sigma)/sigma-h**2/(c*tau*sigma))*y0[i]-(1-sigma)/sigma*(y0[i-1]+y0[i+1])-h**2/(c*sigma)*f(x[i],t[j]+tau/2)\n",
        "  #зададим граничные условия\n",
        "  if (alpha1!=0 and alpha2!=0): \n",
        "    C[0]=2*c/h+h/tau-2*c*betta1/alpha1\n",
        "    B[0]=-2*c/h\n",
        "    F[0]=h/tau*y0[0]+h*f(x[0],t[j]+tau/2)-2*c/alpha1*mu1(t[j+1])\n",
        "\n",
        "    A[N]=2*c/h\n",
        "    C[N]=-(2*c/h+h/tau+2*c*betta2/alpha2)\n",
        "    F[N]=(-h/tau*y0[N]-h*f(x[N],t[j]+tau/2)-2*c/alpha2*mu2(t[j+1]))\n",
        "  elif (alpha1==0 and alpha2!=0):\n",
        "    C[0]=1\n",
        "    B[0]=0\n",
        "    F[0]=mu1(t[j+1])/betta1\n",
        "\n",
        "    A[N]=2*c/h\n",
        "    C[N]=-(2*c/h+h/tau+2*c*betta2/alpha2)\n",
        "    F[N]=-h/tau*y0[N]-h*f(x[N],t[j]+tau/2)-2*c/alpha2*mu2(t[j+1])\n",
        "  elif (alpha1!=0 and alpha2==0):\n",
        "    C[0]=2*c/h+h/tau-2*c*betta1/alpha1\n",
        "    B[0]=-2*c/h\n",
        "    F[0]=h/tau*y0[0]+h*f(x[0],t[j]+tau/2)-2*c/alpha1*mu1(t[j+1])\n",
        "\n",
        "    A[N]=0\n",
        "    C[N]=1\n",
        "    F[N]=mu2(t[j+1])/betta2\n",
        "  else:\n",
        "    C[0]=1\n",
        "    B[0]=0\n",
        "    F[0]=mu1(t[j+1])/betta1\n",
        "\n",
        "    A[N]=0\n",
        "    C[N]=1\n",
        "    F[N]=mu2(t[j+1])/betta2\n",
        "  \n",
        "  y=progonka(A,B,C,F,N)\n",
        "\n",
        "  for i in range(N+1):\n",
        "    u_[i]=u(x[i],t[j+1])\n",
        "  print('j =',j+1)\n",
        "  print('i x[i] y[i]   u[i]    r')\n",
        "  r_max=0\n",
        "  for i in range(N+1):\n",
        "    if (r_max<u_[i]-y[i]):\n",
        "      r_max=u_[i]-y[i]\n",
        "    print(i, round(x[i],4), round(y[i],4), round(u_[i],4), round(u_[i]-y[i],4))\n",
        "  print('r_max =', r_max)\n",
        "  print(\"----------------------------------------------------------\")\n",
        "  for i in range(N+1):\n",
        "    y0[i]=y[i]\n",
        "  if(r<r_max):\n",
        "    r=r_max\n",
        "print('r =', r)"
      ],
      "metadata": {
        "id": "DIqPGQjliD4y",
        "colab": {
          "base_uri": "https://localhost:8080/"
        },
        "outputId": "89a70dfe-ea8b-4b30-c0df-193e557aee92"
      },
      "execution_count": null,
      "outputs": [
        {
          "output_type": "stream",
          "name": "stdout",
          "text": [
            "j = 1\n",
            "i x[i] y[i]   u[i]    r\n",
            "0 0.0 0.0998 0.0998 0.0\n",
            "1 0.3 0.3956 0.3954 -0.0002\n",
            "2 0.6 0.6649 0.6645 -0.0004\n",
            "3 0.9 0.8838 0.8832 -0.0006\n",
            "4 1.2 1.0326 1.0319 -0.0007\n",
            "5 1.5 1.098 1.0973 -0.0007\n",
            "6 1.8 1.0742 1.0737 -0.0005\n",
            "7 2.1 0.9629 0.963 0.0001\n",
            "8 2.4 0.7731 0.7753 0.0022\n",
            "9 2.7 0.5179 0.5272 0.0093\n",
            "10 3.0 0.2072 0.241 0.0337\n",
            "r_max = 0.033708425407373704\n",
            "----------------------------------------------------------\n",
            "j = 2\n",
            "i x[i] y[i]   u[i]    r\n",
            "0 0.0 0.1987 0.1987 0.0\n",
            "1 0.3 0.4946 0.4942 -0.0004\n",
            "2 0.6 0.7641 0.7633 -0.0008\n",
            "3 0.9 0.9831 0.982 -0.0011\n",
            "4 1.2 1.1319 1.1307 -0.0012\n",
            "5 1.5 1.1972 1.1962 -0.001\n",
            "6 1.8 1.1726 1.1725 -0.0001\n",
            "7 2.1 1.0593 1.0619 0.0025\n",
            "8 2.4 0.8649 0.8741 0.0093\n",
            "9 2.7 0.6013 0.626 0.0247\n",
            "10 3.0 0.2886 0.3398 0.0512\n",
            "r_max = 0.05118847658869807\n",
            "----------------------------------------------------------\n",
            "j = 3\n",
            "i x[i] y[i]   u[i]    r\n",
            "0 0.0 0.2955 0.2955 0.0\n",
            "1 0.3 0.5916 0.591 -0.0006\n",
            "2 0.6 0.8613 0.8602 -0.0011\n",
            "3 0.9 1.0803 1.0788 -0.0014\n",
            "4 1.2 1.2289 1.2276 -0.0014\n",
            "5 1.5 1.2936 1.293 -0.0006\n",
            "6 1.8 1.2676 1.2694 0.0018\n",
            "7 2.1 1.1517 1.1587 0.007\n",
            "8 2.4 0.9534 0.971 0.0176\n",
            "9 2.7 0.6876 0.7229 0.0353\n",
            "10 3.0 0.3749 0.4366 0.0617\n",
            "r_max = 0.0617444608731309\n",
            "----------------------------------------------------------\n",
            "r = 0.0617444608731309\n"
          ]
        }
      ]
    }
  ]
}